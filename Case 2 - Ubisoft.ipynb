{
 "cells": [
  {
   "metadata": {},
   "cell_type": "markdown",
   "source": [
    "# Case 2 - Ubisoft\n",
    "* Kyle Anderson u09858930"
   ],
   "id": "d0894eaac122cec1"
  },
  {
   "metadata": {},
   "cell_type": "markdown",
   "source": [
    "# Table of Contents\n",
    "\n",
    "1. [Introduction and Understanding of the Case](#Introduction-and-Understanding-of-the-Case)\n",
    "2. [Data](#Data)\n",
    "3. [Question 1](#Question-1)\n",
    "4. [Question 2](#Question-2)\n",
    "5. [Question 3](#Question-3)\n",
    "6. [Question 4](#Question-4)\n",
    "7. [Question 5](#Question-5)\n",
    "8. [Question 6](#Question-6)\n",
    "9. [Question 7](#Question-7)\n"
   ],
   "id": "e0b0d9a70de36c59"
  },
  {
   "metadata": {},
   "cell_type": "markdown",
   "source": "## Introduction and Understanding of the Case",
   "id": "f91b50bcf12d8fd1"
  },
  {
   "metadata": {},
   "cell_type": "markdown",
   "source": [
    "### Problem\n",
    "* Ubisoft is investigating the page design of Ubisoft to determine which redesign will get more customers who visit the site, to buy games. Is the page that has the buy-click at the bottom of the description or the top-left?    "
   ],
   "id": "f48f21e67ab9eb8e"
  },
  {
   "metadata": {},
   "cell_type": "markdown",
   "source": "## Install Libraries",
   "id": "735eb32695109e66"
  },
  {
   "cell_type": "code",
   "id": "initial_id",
   "metadata": {
    "collapsed": true,
    "ExecuteTime": {
     "end_time": "2024-09-02T06:02:00.755243Z",
     "start_time": "2024-09-02T06:02:00.752401Z"
    }
   },
   "source": [
    "import pandas as pd\n",
    "import numpy as np\n",
    "import matplotlib.pyplot as plt\n",
    "from math import ceil\n",
    "from scipy.stats import norm\n",
    "from math import sqrt"
   ],
   "outputs": [],
   "execution_count": 50
  },
  {
   "metadata": {},
   "cell_type": "markdown",
   "source": "## Data",
   "id": "df7bbe0defbe5ef"
  },
  {
   "metadata": {
    "ExecuteTime": {
     "end_time": "2024-09-02T06:02:01.223132Z",
     "start_time": "2024-09-02T06:02:00.781249Z"
    }
   },
   "cell_type": "code",
   "source": [
    "# Ubisoft Historical\n",
    "ubisoft_hist = \"https://raw.githubusercontent.com/jefftwebb/data/main/ubisoft_historical.csv\"\n",
    "df_h = pd.read_csv(ubisoft_hist, index_col=False)\n",
    "\n",
    "# Descriptive Dictionary\n",
    "diction = fr\"https://raw.githubusercontent.com/jefftwebb/data/main/ubisoft_historical_dictionary.csv\"\n",
    "df_d = pd.read_csv(diction, index_col=False)"
   ],
   "id": "44c4f3ef03f953db",
   "outputs": [],
   "execution_count": 51
  },
  {
   "metadata": {
    "ExecuteTime": {
     "end_time": "2024-09-02T06:02:01.228747Z",
     "start_time": "2024-09-02T06:02:01.224136Z"
    }
   },
   "cell_type": "code",
   "source": [
    "# Inspect data frame of historical\n",
    "df_h.head(5)"
   ],
   "id": "5134e0d93cbd834b",
   "outputs": [
    {
     "data": {
      "text/plain": [
       "         Date Day_of_Week  Visitors  Conversions  Is_Campaign_Day\n",
       "0  2023-01-01      Sunday       633           50             True\n",
       "1  2023-01-02      Monday       487           30            False\n",
       "2  2023-01-03     Tuesday       501           25            False\n",
       "3  2023-01-04   Wednesday       475           19            False\n",
       "4  2023-01-05    Thursday       497           25            False"
      ],
      "text/html": [
       "<div>\n",
       "<style scoped>\n",
       "    .dataframe tbody tr th:only-of-type {\n",
       "        vertical-align: middle;\n",
       "    }\n",
       "\n",
       "    .dataframe tbody tr th {\n",
       "        vertical-align: top;\n",
       "    }\n",
       "\n",
       "    .dataframe thead th {\n",
       "        text-align: right;\n",
       "    }\n",
       "</style>\n",
       "<table border=\"1\" class=\"dataframe\">\n",
       "  <thead>\n",
       "    <tr style=\"text-align: right;\">\n",
       "      <th></th>\n",
       "      <th>Date</th>\n",
       "      <th>Day_of_Week</th>\n",
       "      <th>Visitors</th>\n",
       "      <th>Conversions</th>\n",
       "      <th>Is_Campaign_Day</th>\n",
       "    </tr>\n",
       "  </thead>\n",
       "  <tbody>\n",
       "    <tr>\n",
       "      <th>0</th>\n",
       "      <td>2023-01-01</td>\n",
       "      <td>Sunday</td>\n",
       "      <td>633</td>\n",
       "      <td>50</td>\n",
       "      <td>True</td>\n",
       "    </tr>\n",
       "    <tr>\n",
       "      <th>1</th>\n",
       "      <td>2023-01-02</td>\n",
       "      <td>Monday</td>\n",
       "      <td>487</td>\n",
       "      <td>30</td>\n",
       "      <td>False</td>\n",
       "    </tr>\n",
       "    <tr>\n",
       "      <th>2</th>\n",
       "      <td>2023-01-03</td>\n",
       "      <td>Tuesday</td>\n",
       "      <td>501</td>\n",
       "      <td>25</td>\n",
       "      <td>False</td>\n",
       "    </tr>\n",
       "    <tr>\n",
       "      <th>3</th>\n",
       "      <td>2023-01-04</td>\n",
       "      <td>Wednesday</td>\n",
       "      <td>475</td>\n",
       "      <td>19</td>\n",
       "      <td>False</td>\n",
       "    </tr>\n",
       "    <tr>\n",
       "      <th>4</th>\n",
       "      <td>2023-01-05</td>\n",
       "      <td>Thursday</td>\n",
       "      <td>497</td>\n",
       "      <td>25</td>\n",
       "      <td>False</td>\n",
       "    </tr>\n",
       "  </tbody>\n",
       "</table>\n",
       "</div>"
      ]
     },
     "execution_count": 52,
     "metadata": {},
     "output_type": "execute_result"
    }
   ],
   "execution_count": 52
  },
  {
   "metadata": {
    "ExecuteTime": {
     "end_time": "2024-09-02T06:02:01.235255Z",
     "start_time": "2024-09-02T06:02:01.228747Z"
    }
   },
   "cell_type": "code",
   "source": [
    "# Inspect data frame of dictionary\n",
    "df_d.head(10)\n",
    "\n",
    "# Date could be confounder based on events, cultural activites, Ubisoft activity, or weekends/holidays.\n",
    "# Day_of_Week could be Confounder\n",
    "# Is_Campaign_Day could be the most obvious Confounder"
   ],
   "id": "604c3d0dea508706",
   "outputs": [
    {
     "data": {
      "text/plain": [
       "          variable     type                                        description\n",
       "0             Date     date  The date on which the data were recorded, from...\n",
       "1      Day_of_Week   string     The day of the week corresponding to the date.\n",
       "2         Visitors  integer  The total number of visitors to the For Honor ...\n",
       "3      Conversions  integer  The number of visitors who completed a convers...\n",
       "4  Is_Campaign_Day  logical  A flag indicating whether a marketing campaign..."
      ],
      "text/html": [
       "<div>\n",
       "<style scoped>\n",
       "    .dataframe tbody tr th:only-of-type {\n",
       "        vertical-align: middle;\n",
       "    }\n",
       "\n",
       "    .dataframe tbody tr th {\n",
       "        vertical-align: top;\n",
       "    }\n",
       "\n",
       "    .dataframe thead th {\n",
       "        text-align: right;\n",
       "    }\n",
       "</style>\n",
       "<table border=\"1\" class=\"dataframe\">\n",
       "  <thead>\n",
       "    <tr style=\"text-align: right;\">\n",
       "      <th></th>\n",
       "      <th>variable</th>\n",
       "      <th>type</th>\n",
       "      <th>description</th>\n",
       "    </tr>\n",
       "  </thead>\n",
       "  <tbody>\n",
       "    <tr>\n",
       "      <th>0</th>\n",
       "      <td>Date</td>\n",
       "      <td>date</td>\n",
       "      <td>The date on which the data were recorded, from...</td>\n",
       "    </tr>\n",
       "    <tr>\n",
       "      <th>1</th>\n",
       "      <td>Day_of_Week</td>\n",
       "      <td>string</td>\n",
       "      <td>The day of the week corresponding to the date.</td>\n",
       "    </tr>\n",
       "    <tr>\n",
       "      <th>2</th>\n",
       "      <td>Visitors</td>\n",
       "      <td>integer</td>\n",
       "      <td>The total number of visitors to the For Honor ...</td>\n",
       "    </tr>\n",
       "    <tr>\n",
       "      <th>3</th>\n",
       "      <td>Conversions</td>\n",
       "      <td>integer</td>\n",
       "      <td>The number of visitors who completed a convers...</td>\n",
       "    </tr>\n",
       "    <tr>\n",
       "      <th>4</th>\n",
       "      <td>Is_Campaign_Day</td>\n",
       "      <td>logical</td>\n",
       "      <td>A flag indicating whether a marketing campaign...</td>\n",
       "    </tr>\n",
       "  </tbody>\n",
       "</table>\n",
       "</div>"
      ]
     },
     "execution_count": 53,
     "metadata": {},
     "output_type": "execute_result"
    }
   ],
   "execution_count": 53
  },
  {
   "metadata": {},
   "cell_type": "markdown",
   "source": [
    "## Question 1\n",
    "* What is the unit of analysis for the proposed A/B test? Explain."
   ],
   "id": "60b154100556d9df"
  },
  {
   "metadata": {},
   "cell_type": "markdown",
   "source": [
    "## Answer 1\n",
    "* The target of this is getting customer click engagement, so the 'Unit of Anlysis is' CUSTOMER(s)"
   ],
   "id": "c4caa3acae127098"
  },
  {
   "metadata": {},
   "cell_type": "markdown",
   "source": [
    "## Question 2\n",
    "* What is the baseline conversion rate for the For Honor game in the historical data?"
   ],
   "id": "bd560e7222c06ddb"
  },
  {
   "metadata": {
    "ExecuteTime": {
     "end_time": "2024-09-02T06:02:01.239498Z",
     "start_time": "2024-09-02T06:02:01.236259Z"
    }
   },
   "cell_type": "code",
   "source": [
    "# Conversion Count // Total Site Visits\n",
    "conversion_rate = (df_h['Conversions'].sum() / df_h['Visitors'].sum()) * 100\n",
    "conversion_rate = round(conversion_rate, 2)\n",
    "print(\"Conversion Rate:\")\n",
    "print(conversion_rate,\"%\")\n"
   ],
   "id": "bfa62cd81ff8e43b",
   "outputs": [
    {
     "name": "stdout",
     "output_type": "stream",
     "text": [
      "Conversion Rate:\n",
      "4.85 %\n"
     ]
    }
   ],
   "execution_count": 54
  },
  {
   "metadata": {},
   "cell_type": "markdown",
   "source": [
    "## Answer 2\n",
    "* The conversion rate is 4.85% which means a very low rate of people visiting who choose to buy the game."
   ],
   "id": "13ae059b37b0e71b"
  },
  {
   "metadata": {},
   "cell_type": "markdown",
   "source": [
    "## Question 3\n",
    "* What is the required sample size in each group in order for the test to detect the specified MEI of 1% in conversions, assuming alpha of .05 and power of .8 in a one-tailed (directional) test?"
   ],
   "id": "9017af1ab7267e4c"
  },
  {
   "metadata": {
    "ExecuteTime": {
     "end_time": "2024-09-02T06:02:01.244824Z",
     "start_time": "2024-09-02T06:02:01.239498Z"
    }
   },
   "cell_type": "code",
   "source": [
    "# Minimum Effect of Interest\n",
    "# Power of .8 means that we will correctly reject a false null hypothesis 80% of the time\n",
    "\n",
    "conversion_rate = 0.0485\n",
    "p2 = conversion_rate + 0.01 # MEI\n",
    "alpha = 0.05\n",
    "power = 0.8\n",
    "\n",
    "# Z1alpha\n",
    "z_alpha = norm.ppf(1 - alpha)\n",
    "# Z1beta\n",
    "z_beta = norm.ppf(power)\n",
    "\n",
    "p_bar = (conversion_rate + p2) / 2 # Pbar is the overall conversion rate\n",
    "\n",
    "n = (((z_alpha * sqrt(2 * p_bar * (1 - p_bar))) + sqrt(conversion_rate * (1 - conversion_rate) + p2 * (1 - p2)) * z_beta)/ (p2 - conversion_rate)) ** 2\n",
    "# Numpy ceiling to get whole customer\n",
    "sample = np.ceil(n)\n",
    "print(\"Sample Size:\")\n",
    "sample"
   ],
   "id": "601c0179020e20eb",
   "outputs": [
    {
     "name": "stdout",
     "output_type": "stream",
     "text": [
      "Sample Size:\n"
     ]
    },
    {
     "data": {
      "text/plain": [
       "6261.0"
      ]
     },
     "execution_count": 55,
     "metadata": {},
     "output_type": "execute_result"
    }
   ],
   "execution_count": 55
  },
  {
   "metadata": {},
   "cell_type": "markdown",
   "source": [
    "## Answer 3:\n",
    "* 6261 for groups A and B are the appropriate sample size for this test"
   ],
   "id": "c63fb1836b395be0"
  },
  {
   "metadata": {},
   "cell_type": "markdown",
   "source": [
    "## Question 4\n",
    "* Given the study parameters from the previous question—MEI, alpha and power—and the visitor counts in the historical data, how long will the test need to run? Discuss the assumptions you are making in estimating the test duration."
   ],
   "id": "901e566e6e79be81"
  },
  {
   "metadata": {
    "ExecuteTime": {
     "end_time": "2024-09-02T06:02:01.249286Z",
     "start_time": "2024-09-02T06:02:01.244824Z"
    }
   },
   "cell_type": "code",
   "source": [
    "median_visits = df_h['Visitors'].median() # Daily visitors\n",
    "\n",
    "median_duration = np.ceil(6261 / median_visits)\n",
    "print(\"Duration using median daily visitors:\")\n",
    "print(median_duration)\n",
    "\n",
    "mean_visits = df_h['Visitors'].mean() # Daily visitors\n",
    "\n",
    "mean_duration = np.ceil(6261 / mean_visits)\n",
    "print('Duration using mean daily visitors:')\n",
    "print(mean_duration)\n",
    "\n",
    "std_visits = df_h['Visitors'].std()\n",
    "std_visits = np.ceil(std_visits)\n",
    "print('Standard Deviation of daily visitors, for 3 days:')\n",
    "print(std_visits*1)\n"
   ],
   "id": "4dcdac260c97cedf",
   "outputs": [
    {
     "name": "stdout",
     "output_type": "stream",
     "text": [
      "Duration using median daily visitors:\n",
      "13.0\n",
      "Duration using mean daily visitors:\n",
      "12.0\n",
      "Standard Deviation of daily visitors, for 3 days:\n",
      "53.0\n"
     ]
    }
   ],
   "execution_count": 56
  },
  {
   "metadata": {},
   "cell_type": "markdown",
   "source": [
    "## Answer 4\n",
    "* It depends...\n",
    "* The answer will vary based on the business context. Using the median, the A/B test will finish after 13 days.\n",
    "* Using the mean, the Test is 1 day less, so it will really depend on the decision makers and the cost of waiting for this information for them to decided to cut it early or if the 53 visits are necessary for the Test."
   ],
   "id": "dc75ab5ccf8d9090"
  },
  {
   "metadata": {},
   "cell_type": "markdown",
   "source": [
    "## Question 5\n",
    "* In A/B testing false negatives can be more detrimental to a company than false positives. Primarily, they prevent the recognition and implementation of beneficial changes, resulting in missed opportunities, and, in the long run, competitive disadvantage. Recalculate sample size and study duration with this in mind, using different settings for alpha and power. Explain your choices."
   ],
   "id": "cac401825106e1df"
  },
  {
   "metadata": {
    "ExecuteTime": {
     "end_time": "2024-09-02T06:02:01.254316Z",
     "start_time": "2024-09-02T06:02:01.249286Z"
    }
   },
   "cell_type": "code",
   "source": [
    "# Re run sample size\n",
    "\n",
    "conversion_rate = 0.0485\n",
    "p2 = conversion_rate + 0.01 # MEI\n",
    "alpha = 0.04\n",
    "power = 0.95\n",
    "\n",
    "# Z1alpha\n",
    "z_alpha = norm.ppf(1 - alpha)\n",
    "# Z1beta\n",
    "z_beta = norm.ppf(power)\n",
    "\n",
    "p_bar = (conversion_rate + p2) / 2 # Pbar is the overall conversion rate\n",
    "\n",
    "n = (((z_alpha * sqrt(2 * p_bar * (1 - p_bar))) + sqrt(conversion_rate * (1 - conversion_rate) + p2 * (1 - p2)) * z_beta)/ (p2 - conversion_rate)) ** 2\n",
    "# Numpy ceiling to get whole customer\n",
    "new_sample = np.ceil(n)\n",
    "print(\"Sample Size:\")\n",
    "new_sample"
   ],
   "id": "587d510f899faa37",
   "outputs": [
    {
     "name": "stdout",
     "output_type": "stream",
     "text": [
      "Sample Size:\n"
     ]
    },
    {
     "data": {
      "text/plain": [
       "11674.0"
      ]
     },
     "execution_count": 57,
     "metadata": {},
     "output_type": "execute_result"
    }
   ],
   "execution_count": 57
  },
  {
   "metadata": {
    "ExecuteTime": {
     "end_time": "2024-09-02T06:02:01.258018Z",
     "start_time": "2024-09-02T06:02:01.255321Z"
    }
   },
   "cell_type": "code",
   "source": [
    "# Re run test days\n",
    "new_median_duration = np.ceil(new_sample / median_visits)\n",
    "print(\"Duration using median daily visitors:\")\n",
    "print(new_median_duration)\n",
    "\n",
    "new_mean_duration = np.ceil(new_sample / mean_visits)\n",
    "print('Duration using mean daily visitors:')\n",
    "print(new_mean_duration)\n"
   ],
   "id": "bc6980be4f067b11",
   "outputs": [
    {
     "name": "stdout",
     "output_type": "stream",
     "text": [
      "Duration using median daily visitors:\n",
      "23.0\n",
      "Duration using mean daily visitors:\n",
      "23.0\n"
     ]
    }
   ],
   "execution_count": 58
  },
  {
   "metadata": {},
   "cell_type": "markdown",
   "source": [
    "## Answer 5\n",
    "* For this increase in sample size, there will be a doubling in days. For the median and mean, both equal 23 days for the Test. These changes should help gather more information and drive the False Negatives down. However, what is the cost of waiting?"
   ],
   "id": "c16d9c3a5d993986"
  },
  {
   "metadata": {},
   "cell_type": "markdown",
   "source": [
    "## Question 6\n",
    "* Simulate visitor level data for the test, based on numbers from the historical data, and given the MEI and the test duration you calculated in Q4. The simulated data should resemble the actual data you would collect during the experiment. You can ignore weekly seasonality and marketing campaigns but the simulation should include a realistic number of visitors per day for the A and B groups for the duration of the experiment, as well as a realistic proportion of conversions. Each row should represent a unique customer-day combination. Use the simulated data to analyze the difference between A and B conversion rates statistically. Report and explain your results. (Hint: conversion is a binary process that can be modeled as a binomial random variable. Use rbinom() in R or numpy.random.binomial() in Python.)"
   ],
   "id": "7443c17e5bb58291"
  },
  {
   "metadata": {
    "ExecuteTime": {
     "end_time": "2024-09-02T06:02:01.279302Z",
     "start_time": "2024-09-02T06:02:01.258018Z"
    }
   },
   "cell_type": "code",
   "source": [
    "n = 6261  # Sample size\n",
    "duration = 13  # Duration\n",
    "conversion_rate = 0.0485\n",
    "p2 = conversion_rate + 0.01  # MEI\n",
    "\n",
    "data = []\n",
    "\n",
    "np.random.seed(223)\n",
    "# run for each day to avoid confounding\n",
    "for day in range(duration):\n",
    "    for group in ['A', 'B']: # set groups\n",
    "        \n",
    "        num_visitors = np.random.poisson(530) # 530 mean for total\n",
    "        # using the hint, piece together a binomial for the average visitors\n",
    "        conversions = np.random.binomial(num_visitors, conversion_rate if group == 'A' else p2) # using the conversion rate, assess where the row belongs\n",
    "        for _ in range(num_visitors):\n",
    "            data.append({'Day': day, 'Group': group, 'Conversion': np.random.binomial(1, conversion_rate if group == 'A' else p2)})\n",
    "\n",
    "df_simul = pd.DataFrame(data)\n",
    "df_simul.head(15)\n"
   ],
   "id": "473e6a87dc8f0758",
   "outputs": [
    {
     "data": {
      "text/plain": [
       "    Day Group  Conversion\n",
       "0     0     A           0\n",
       "1     0     A           0\n",
       "2     0     A           0\n",
       "3     0     A           0\n",
       "4     0     A           0\n",
       "5     0     A           1\n",
       "6     0     A           0\n",
       "7     0     A           0\n",
       "8     0     A           0\n",
       "9     0     A           0\n",
       "10    0     A           0\n",
       "11    0     A           0\n",
       "12    0     A           0\n",
       "13    0     A           0\n",
       "14    0     A           1"
      ],
      "text/html": [
       "<div>\n",
       "<style scoped>\n",
       "    .dataframe tbody tr th:only-of-type {\n",
       "        vertical-align: middle;\n",
       "    }\n",
       "\n",
       "    .dataframe tbody tr th {\n",
       "        vertical-align: top;\n",
       "    }\n",
       "\n",
       "    .dataframe thead th {\n",
       "        text-align: right;\n",
       "    }\n",
       "</style>\n",
       "<table border=\"1\" class=\"dataframe\">\n",
       "  <thead>\n",
       "    <tr style=\"text-align: right;\">\n",
       "      <th></th>\n",
       "      <th>Day</th>\n",
       "      <th>Group</th>\n",
       "      <th>Conversion</th>\n",
       "    </tr>\n",
       "  </thead>\n",
       "  <tbody>\n",
       "    <tr>\n",
       "      <th>0</th>\n",
       "      <td>0</td>\n",
       "      <td>A</td>\n",
       "      <td>0</td>\n",
       "    </tr>\n",
       "    <tr>\n",
       "      <th>1</th>\n",
       "      <td>0</td>\n",
       "      <td>A</td>\n",
       "      <td>0</td>\n",
       "    </tr>\n",
       "    <tr>\n",
       "      <th>2</th>\n",
       "      <td>0</td>\n",
       "      <td>A</td>\n",
       "      <td>0</td>\n",
       "    </tr>\n",
       "    <tr>\n",
       "      <th>3</th>\n",
       "      <td>0</td>\n",
       "      <td>A</td>\n",
       "      <td>0</td>\n",
       "    </tr>\n",
       "    <tr>\n",
       "      <th>4</th>\n",
       "      <td>0</td>\n",
       "      <td>A</td>\n",
       "      <td>0</td>\n",
       "    </tr>\n",
       "    <tr>\n",
       "      <th>5</th>\n",
       "      <td>0</td>\n",
       "      <td>A</td>\n",
       "      <td>1</td>\n",
       "    </tr>\n",
       "    <tr>\n",
       "      <th>6</th>\n",
       "      <td>0</td>\n",
       "      <td>A</td>\n",
       "      <td>0</td>\n",
       "    </tr>\n",
       "    <tr>\n",
       "      <th>7</th>\n",
       "      <td>0</td>\n",
       "      <td>A</td>\n",
       "      <td>0</td>\n",
       "    </tr>\n",
       "    <tr>\n",
       "      <th>8</th>\n",
       "      <td>0</td>\n",
       "      <td>A</td>\n",
       "      <td>0</td>\n",
       "    </tr>\n",
       "    <tr>\n",
       "      <th>9</th>\n",
       "      <td>0</td>\n",
       "      <td>A</td>\n",
       "      <td>0</td>\n",
       "    </tr>\n",
       "    <tr>\n",
       "      <th>10</th>\n",
       "      <td>0</td>\n",
       "      <td>A</td>\n",
       "      <td>0</td>\n",
       "    </tr>\n",
       "    <tr>\n",
       "      <th>11</th>\n",
       "      <td>0</td>\n",
       "      <td>A</td>\n",
       "      <td>0</td>\n",
       "    </tr>\n",
       "    <tr>\n",
       "      <th>12</th>\n",
       "      <td>0</td>\n",
       "      <td>A</td>\n",
       "      <td>0</td>\n",
       "    </tr>\n",
       "    <tr>\n",
       "      <th>13</th>\n",
       "      <td>0</td>\n",
       "      <td>A</td>\n",
       "      <td>0</td>\n",
       "    </tr>\n",
       "    <tr>\n",
       "      <th>14</th>\n",
       "      <td>0</td>\n",
       "      <td>A</td>\n",
       "      <td>1</td>\n",
       "    </tr>\n",
       "  </tbody>\n",
       "</table>\n",
       "</div>"
      ]
     },
     "execution_count": 59,
     "metadata": {},
     "output_type": "execute_result"
    }
   ],
   "execution_count": 59
  },
  {
   "metadata": {
    "ExecuteTime": {
     "end_time": "2024-09-02T06:02:01.290008Z",
     "start_time": "2024-09-02T06:02:01.280308Z"
    }
   },
   "cell_type": "code",
   "source": [
    "# I had to get help from Chat and Copilot on this part. I was confused on how to run the comparison and it stuck with the chi squared.\n",
    "conversion_rates = df_simul.groupby('Group')['Conversion'].mean()\n",
    "print(\"Conversion Rates:\")\n",
    "print(conversion_rates)\n",
    "\n",
    "from scipy.stats import chi2_contingency\n",
    "\n",
    "contingency_table = pd.crosstab(df_simul['Group'], df_simul['Conversion'])\n",
    "chi2, p, _, _ = chi2_contingency(contingency_table)\n",
    "\n",
    "print(f\"Chi-square statistic: {round(chi2, 2)}\")\n",
    "print(f\"P-value: {round(p,2)}\")\n",
    "\n",
    "if p < 0.05:\n",
    "    print(\"There is a difference in conversion rates of group A and B.\")\n",
    "else:\n",
    "    print(\"NO difference in conversion rates of group A and B.\")\n"
   ],
   "id": "76c428fbd66e644a",
   "outputs": [
    {
     "name": "stdout",
     "output_type": "stream",
     "text": [
      "Conversion Rates:\n",
      "Group\n",
      "A    0.044381\n",
      "B    0.058933\n",
      "Name: Conversion, dtype: float64\n",
      "Chi-square statistic: 14.78\n",
      "P-value: 0.0\n",
      "There is a difference in conversion rates of group A and B.\n"
     ]
    }
   ],
   "execution_count": 60
  },
  {
   "metadata": {},
   "cell_type": "markdown",
   "source": [
    "## Answer 6\n",
    "* With the simulated data, the two groups have differences. However, with the change in a higher conversion rate in B. This marks a positive result with moving the click button to the top-left corner."
   ],
   "id": "2460285580c80e01"
  },
  {
   "metadata": {},
   "cell_type": "markdown",
   "source": "## Question 7",
   "id": "cb6883e34434642b"
  },
  {
   "metadata": {},
   "cell_type": "markdown",
   "source": [
    "## Answer 7\n",
    "\n",
    "* **Background**: When optimizing the click button for the 'For Honor' game, it is important to find the location that will convert visitors to buyers. In this study, we will compare the Control where the button has been located at the bottom of the page and then move it to the top left.\n",
    "* When testing, it was important to gather the number of days expected/budgeted for this project as this will give stakeholders the expectations on the timeline. When using the median or mean, it was a difference of 1 day and 53 visitors. However, it would be wise to decrease False Negatives and increase the time period to 23 days, as this will give a wider net of visitors across double the amount of days. As well as the number of Visitors we needed to study at different time periods to gather unbiased data. This will be based on random assignment in groups A or B. A being the Control and B being the new button location.\n",
    "* With this Test, it will be vital to let the Test run its course for the 23 days and review the results of the Control and Test at the end.\n",
    "    \n",
    "\n"
   ],
   "id": "bf0f0939bd4d4dec"
  },
  {
   "metadata": {
    "ExecuteTime": {
     "end_time": "2024-09-02T06:02:01.292321Z",
     "start_time": "2024-09-02T06:02:01.290008Z"
    }
   },
   "cell_type": "code",
   "source": "",
   "id": "d82c0c154d3b3d7c",
   "outputs": [],
   "execution_count": 60
  }
 ],
 "metadata": {
  "kernelspec": {
   "display_name": "Python 3",
   "language": "python",
   "name": "python3"
  },
  "language_info": {
   "codemirror_mode": {
    "name": "ipython",
    "version": 2
   },
   "file_extension": ".py",
   "mimetype": "text/x-python",
   "name": "python",
   "nbconvert_exporter": "python",
   "pygments_lexer": "ipython2",
   "version": "2.7.6"
  }
 },
 "nbformat": 4,
 "nbformat_minor": 5
}
